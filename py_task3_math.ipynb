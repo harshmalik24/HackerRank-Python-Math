{
 "cells": [
  {
   "cell_type": "code",
   "execution_count": null,
   "id": "e676e8f7",
   "metadata": {},
   "outputs": [],
   "source": [
    "#Polar Coordinates\n",
    "import cmath\n",
    "n = complex(input())\n",
    "print(abs(complex(n)))\n",
    "print(cmath.phase(complex(n)))"
   ]
  },
  {
   "cell_type": "code",
   "execution_count": null,
   "id": "bfbc459d",
   "metadata": {},
   "outputs": [],
   "source": [
    "#Find Angle MBC\n",
    "from math import atan,degrees\n",
    "AB = int(input())\n",
    "BC = int(input())\n",
    "angleC = atan(AB/BC)\n",
    "print((round(degrees(angleC))),chr(176),sep='')"
   ]
  },
  {
   "cell_type": "code",
   "execution_count": null,
   "id": "29163cf1",
   "metadata": {},
   "outputs": [],
   "source": [
    "#Triangle Quest 2\n",
    "for i in range(1,int(input())+1):\n",
    "    print(((10**i - 1)//9)**2)"
   ]
  },
  {
   "cell_type": "code",
   "execution_count": null,
   "id": "8a3f6ebd",
   "metadata": {},
   "outputs": [],
   "source": [
    "#Mod Divmod\n",
    "a = int(input())\n",
    "b = int(input())\n",
    "print(a//b)\n",
    "print(a%b)\n",
    "print(divmod(a,b))"
   ]
  },
  {
   "cell_type": "code",
   "execution_count": null,
   "id": "73fbbb38",
   "metadata": {},
   "outputs": [],
   "source": [
    "#Power - Mod Power\n",
    "a = int(input())\n",
    "b = int(input())\n",
    "m = int(input())\n",
    "print(pow(a,b))\n",
    "print(pow(a,b,m))"
   ]
  },
  {
   "cell_type": "code",
   "execution_count": null,
   "id": "ca221777",
   "metadata": {},
   "outputs": [],
   "source": [
    "#Integers Come In All Sizes\n",
    "a = int(input())\n",
    "b = int(input())\n",
    "c = int(input())\n",
    "d = int(input())\n",
    "print(pow(a,b)+pow(c,d))"
   ]
  },
  {
   "cell_type": "code",
   "execution_count": null,
   "id": "13a40cf6",
   "metadata": {},
   "outputs": [],
   "source": [
    "#Triangle Quest\n",
    "for i in range(1,int(input())):\n",
    "    print(i*((10**i-1)//9))"
   ]
  }
 ],
 "metadata": {
  "kernelspec": {
   "display_name": "Python 3 (ipykernel)",
   "language": "python",
   "name": "python3"
  },
  "language_info": {
   "codemirror_mode": {
    "name": "ipython",
    "version": 3
   },
   "file_extension": ".py",
   "mimetype": "text/x-python",
   "name": "python",
   "nbconvert_exporter": "python",
   "pygments_lexer": "ipython3",
   "version": "3.9.13"
  }
 },
 "nbformat": 4,
 "nbformat_minor": 5
}
